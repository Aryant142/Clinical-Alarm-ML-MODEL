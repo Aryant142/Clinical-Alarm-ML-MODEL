{
  "nbformat": 4,
  "nbformat_minor": 0,
  "metadata": {
    "colab": {
      "provenance": []
    },
    "kernelspec": {
      "name": "python3",
      "display_name": "Python 3"
    },
    "language_info": {
      "name": "python"
    }
  },
  "cells": [
    {
      "cell_type": "code",
      "execution_count": null,
      "metadata": {
        "colab": {
          "base_uri": "https://localhost:8080/"
        },
        "id": "vnHlHkvL7w6s",
        "outputId": "5754daeb-a0a9-45d4-d142-48a96ec493b8"
      },
      "outputs": [
        {
          "output_type": "stream",
          "name": "stdout",
          "text": [
            "--- Data Structure and Info ---\n",
            "<class 'pandas.core.frame.DataFrame'>\n",
            "RangeIndex: 1038 entries, 0 to 1037\n",
            "Data columns (total 11 columns):\n",
            " #   Column       Non-Null Count  Dtype  \n",
            "---  ------       --------------  -----  \n",
            " 0   subject_id   1038 non-null   int64  \n",
            " 1   stay_id      1038 non-null   int64  \n",
            " 2   charttime    1038 non-null   object \n",
            " 3   temperature  579 non-null    float64\n",
            " 4   heartrate    1008 non-null   float64\n",
            " 5   resprate     990 non-null    float64\n",
            " 6   o2sat        971 non-null    float64\n",
            " 7   sbp          998 non-null    float64\n",
            " 8   dbp          998 non-null    float64\n",
            " 9   rhythm       33 non-null     object \n",
            " 10  pain         736 non-null    object \n",
            "dtypes: float64(6), int64(2), object(3)\n",
            "memory usage: 89.3+ KB\n",
            "\n",
            "--- First 5 Rows of Data ---\n",
            "   subject_id   stay_id            charttime  temperature  heartrate  \\\n",
            "0    10014729  37887480  2125-03-19 13:22:00          NaN      124.0   \n",
            "1    10014729  37887480  2125-03-19 18:28:00         98.9      106.0   \n",
            "2    10014729  37887480  2125-03-19 13:07:00          NaN      128.0   \n",
            "3    10014729  37887480  2125-03-19 16:23:00         99.8      115.0   \n",
            "4    10014729  37887480  2125-03-19 13:24:00          NaN      125.0   \n",
            "\n",
            "   resprate  o2sat    sbp   dbp             rhythm pain  \n",
            "0      24.0  100.0   93.0  65.0                NaN  NaN  \n",
            "1      18.0  100.0  115.0  70.0  Sinus Tachycardia    5  \n",
            "2      18.0  100.0  132.0  96.0  Sinus Tachycardia  NaN  \n",
            "3      22.0   97.0  114.0  45.0  Sinus Tachycardia    0  \n",
            "4       NaN    NaN    NaN   NaN                NaN  NaN  \n"
          ]
        }
      ],
      "source": [
        "import pandas as pd\n",
        "\n",
        "# Make sure the file 'vitalsign.csv' is in the same directory\n",
        "# as your script, or provide the full path to it.\n",
        "file_path = '/content/MIMIC 4/vitalsign.csv'\n",
        "\n",
        "try:\n",
        "    # Load the dataset\n",
        "    vitalsign_df = pd.read_csv(file_path)\n",
        "\n",
        "    # Print the summary info\n",
        "    print(\"--- Data Structure and Info ---\")\n",
        "    vitalsign_df.info()\n",
        "\n",
        "    # Print the first 5 rows\n",
        "    print(\"\\n--- First 5 Rows of Data ---\")\n",
        "    print(vitalsign_df.head())\n",
        "\n",
        "except FileNotFoundError:\n",
        "    print(f\"Error: The file was not found at '{file_path}'. Please make sure the path is correct.\")\n",
        "except Exception as e:\n",
        "    print(f\"An error occurred: {e}\")"
      ]
    },
    {
      "cell_type": "markdown",
      "source": [
        "## Initial Observations\n",
        "Missing Data: There are a lot of missing values, especially in temperature and rhythm. For example, temperature is missing in almost half the rows. We will need to decide how to handle these missing values (this is called \"imputation\").\n",
        "\n",
        "Data Types: The charttime is currently an object (text). We will need to convert this into a proper datetime format so we can perform time-based analysis. The pain column is also an object and will likely need to be converted to a numerical format.\n",
        "\n",
        "Irregular Measurements: Looking at the first few rows for the same stay_id, the timestamps are not perfectly regular (13:07, 13:22, 13:24, 16:23). This is normal for real-world clinical data."
      ],
      "metadata": {
        "id": "oZdCltQsA4ei"
      }
    },
    {
      "cell_type": "code",
      "source": [
        "import numpy as np\n",
        "\n",
        "# --- 2. Convert 'charttime' to Datetime ---\n",
        "vitalsign_df['charttime'] = pd.to_datetime(vitalsign_df['charttime'])\n",
        "\n",
        "# --- 3. Convert 'pain' Column to Numeric ---\n",
        "vitalsign_df['pain'] = pd.to_numeric(vitalsign_df['pain'], errors='coerce')\n",
        "\n",
        "# --- 4. Drop the 'rhythm' Column ---\n",
        "vitalsign_df = vitalsign_df.drop(columns=['rhythm'])\n",
        "\n",
        "# --- 5. Sort Data Chronologically for Each Patient Stay ---\n",
        "vitalsign_df = vitalsign_df.sort_values(by=['stay_id', 'charttime'])\n",
        "\n",
        "# --- 6. Impute Missing Vital Signs using Forward Fill ---\n",
        "vitals_columns = ['temperature', 'heartrate', 'resprate', 'o2sat', 'sbp', 'dbp', 'pain']\n",
        "vitalsign_df[vitals_columns] = vitalsign_df.groupby('stay_id')[vitals_columns].transform(lambda x: x.ffill())\n",
        "\n",
        "# --- 7. (Optional) Show Cleaned Data Info ---\n",
        "print(\"--- Cleaned Data Info ---\")\n",
        "vitalsign_df.info()\n",
        "print(\"\\n--- First 10 Rows of Cleaned Data ---\")\n",
        "print(vitalsign_df.head(10))"
      ],
      "metadata": {
        "colab": {
          "base_uri": "https://localhost:8080/"
        },
        "id": "v_9W6g9vA-F2",
        "outputId": "05af263b-9817-421a-c2b5-0d88ba2c157f"
      },
      "execution_count": null,
      "outputs": [
        {
          "output_type": "stream",
          "name": "stdout",
          "text": [
            "--- Cleaned Data Info ---\n",
            "<class 'pandas.core.frame.DataFrame'>\n",
            "Index: 1038 entries, 328 to 668\n",
            "Data columns (total 10 columns):\n",
            " #   Column       Non-Null Count  Dtype         \n",
            "---  ------       --------------  -----         \n",
            " 0   subject_id   1038 non-null   int64         \n",
            " 1   stay_id      1038 non-null   int64         \n",
            " 2   charttime    1038 non-null   datetime64[ns]\n",
            " 3   temperature  905 non-null    float64       \n",
            " 4   heartrate    1027 non-null   float64       \n",
            " 5   resprate     1026 non-null   float64       \n",
            " 6   o2sat        1016 non-null   float64       \n",
            " 7   sbp          1028 non-null   float64       \n",
            " 8   dbp          1028 non-null   float64       \n",
            " 9   pain         897 non-null    float64       \n",
            "dtypes: datetime64[ns](1), float64(7), int64(2)\n",
            "memory usage: 89.2 KB\n",
            "\n",
            "--- First 10 Rows of Cleaned Data ---\n",
            "      subject_id   stay_id           charttime  temperature  heartrate  \\\n",
            "328     10014354  30094124 2147-11-14 18:23:00         97.3       80.0   \n",
            "327     10014354  30094124 2147-11-14 22:08:00         98.5       82.0   \n",
            "1003    10010867  30115213 2147-12-30 08:40:00          NaN       83.0   \n",
            "1004    10010867  30115213 2147-12-30 08:48:00         97.2       89.0   \n",
            "948     10002930  30193781 2198-04-17 11:42:00         98.2       88.0   \n",
            "950     10002930  30193781 2198-04-17 15:09:00         97.8      105.0   \n",
            "947     10002930  30193781 2198-04-17 17:20:00         97.8      109.0   \n",
            "946     10002930  30193781 2198-04-17 18:24:00        101.0      120.0   \n",
            "949     10002930  30193781 2198-04-17 19:48:00        100.1      122.0   \n",
            "154     10005866  30225689 2149-09-20 05:50:00         97.6       72.0   \n",
            "\n",
            "      resprate  o2sat    sbp    dbp  pain  \n",
            "328       18.0   99.0  138.0   78.0   4.0  \n",
            "327       18.0  100.0  142.0   78.0   6.0  \n",
            "1003      16.0  100.0  132.0   70.0   NaN  \n",
            "1004      17.0  100.0  118.0   64.0   NaN  \n",
            "948       16.0  100.0  150.0   98.0   6.0  \n",
            "950       18.0   97.0  173.0   97.0   6.0  \n",
            "947       18.0   96.0  163.0   97.0   6.0  \n",
            "946       18.0   97.0  126.0  103.0   6.0  \n",
            "949       18.0   98.0  131.0   80.0   0.0  \n",
            "154       16.0  100.0  163.0   81.0  10.0  \n"
          ]
        }
      ]
    },
    {
      "cell_type": "markdown",
      "source": [
        "## Create rolling window feature\n",
        "\n",
        "Our plan is to calculate statistics for each vital sign over a rolling 1-hour window. For every measurement, we'll look back at the previous 60 minutes of data for that patient and calculate the mean, standard deviation, min, and max.\n",
        "\n"
      ],
      "metadata": {
        "id": "c24EWpQACh6g"
      }
    },
    {
      "cell_type": "code",
      "source": [
        "\n",
        "\n",
        "# This assumes 'vitalsign_df' is your cleaned DataFrame.\n",
        "# Make sure it's sorted by stay_id and charttime.\n",
        "vitalsign_df = vitalsign_df.sort_values(by=['stay_id', 'charttime'])\n",
        "\n",
        "# --- 1. Set 'charttime' as the index BEFORE grouping ---\n",
        "df_indexed = vitalsign_df.set_index('charttime')\n",
        "\n",
        "# --- 2. Define Vitals and Window Size ---\n",
        "vitals_to_feature = ['temperature', 'heartrate', 'resprate', 'o2sat', 'sbp', 'dbp', 'pain']\n",
        "window_size = '60min'\n",
        "\n",
        "# --- 3. Calculate All Rolling Features Efficiently ---\n",
        "rolling_features = df_indexed.groupby('stay_id')[vitals_to_feature].rolling(window=window_size).agg(['mean', 'std', 'min', 'max'])\n",
        "\n",
        "# --- 4. Clean Up Column Names ---\n",
        "rolling_features.columns = ['_'.join(col).strip() for col in rolling_features.columns.values]\n",
        "rolling_features = rolling_features.add_suffix(f'_{window_size}')\n",
        "\n",
        "# --- 5. CORRECTED MERGE ---\n",
        "# We no longer use the 'on=' parameter. Instead, we merge the original DataFrame\n",
        "# with the new features based on their shared index (stay_id and charttime).\n",
        "vitalsign_df_with_features = vitalsign_df.merge(\n",
        "    rolling_features,\n",
        "    left_on=['stay_id', 'charttime'],\n",
        "    right_index=True,\n",
        "    how='left'\n",
        ")\n",
        "\n",
        "# --- 6. Show the Results ---\n",
        "print(\"--- Data Info After Adding Features ---\")\n",
        "vitalsign_df_with_features.info()\n",
        "\n",
        "print(\"\\n--- First 10 Rows with New Rolling Features ---\")\n",
        "print(vitalsign_df_with_features.head(10))"
      ],
      "metadata": {
        "colab": {
          "base_uri": "https://localhost:8080/"
        },
        "id": "GnzPMyUGF1Hv",
        "outputId": "ff352620-458d-4a9b-fad7-70d8ede0e10b"
      },
      "execution_count": null,
      "outputs": [
        {
          "output_type": "stream",
          "name": "stdout",
          "text": [
            "--- Data Info After Adding Features ---\n",
            "<class 'pandas.core.frame.DataFrame'>\n",
            "Index: 1038 entries, 328 to 668\n",
            "Data columns (total 38 columns):\n",
            " #   Column                  Non-Null Count  Dtype         \n",
            "---  ------                  --------------  -----         \n",
            " 0   subject_id              1038 non-null   int64         \n",
            " 1   stay_id                 1038 non-null   int64         \n",
            " 2   charttime               1038 non-null   datetime64[ns]\n",
            " 3   temperature             905 non-null    float64       \n",
            " 4   heartrate               1027 non-null   float64       \n",
            " 5   resprate                1026 non-null   float64       \n",
            " 6   o2sat                   1016 non-null   float64       \n",
            " 7   sbp                     1028 non-null   float64       \n",
            " 8   dbp                     1028 non-null   float64       \n",
            " 9   pain                    897 non-null    float64       \n",
            " 10  temperature_mean_60min  905 non-null    float64       \n",
            " 11  temperature_std_60min   272 non-null    float64       \n",
            " 12  temperature_min_60min   905 non-null    float64       \n",
            " 13  temperature_max_60min   905 non-null    float64       \n",
            " 14  heartrate_mean_60min    1027 non-null   float64       \n",
            " 15  heartrate_std_60min     346 non-null    float64       \n",
            " 16  heartrate_min_60min     1027 non-null   float64       \n",
            " 17  heartrate_max_60min     1027 non-null   float64       \n",
            " 18  resprate_mean_60min     1026 non-null   float64       \n",
            " 19  resprate_std_60min      345 non-null    float64       \n",
            " 20  resprate_min_60min      1026 non-null   float64       \n",
            " 21  resprate_max_60min      1026 non-null   float64       \n",
            " 22  o2sat_mean_60min        1016 non-null   float64       \n",
            " 23  o2sat_std_60min         341 non-null    float64       \n",
            " 24  o2sat_min_60min         1016 non-null   float64       \n",
            " 25  o2sat_max_60min         1016 non-null   float64       \n",
            " 26  sbp_mean_60min          1028 non-null   float64       \n",
            " 27  sbp_std_60min           346 non-null    float64       \n",
            " 28  sbp_min_60min           1028 non-null   float64       \n",
            " 29  sbp_max_60min           1028 non-null   float64       \n",
            " 30  dbp_mean_60min          1028 non-null   float64       \n",
            " 31  dbp_std_60min           346 non-null    float64       \n",
            " 32  dbp_min_60min           1028 non-null   float64       \n",
            " 33  dbp_max_60min           1028 non-null   float64       \n",
            " 34  pain_mean_60min         897 non-null    float64       \n",
            " 35  pain_std_60min          267 non-null    float64       \n",
            " 36  pain_min_60min          897 non-null    float64       \n",
            " 37  pain_max_60min          897 non-null    float64       \n",
            "dtypes: datetime64[ns](1), float64(35), int64(2)\n",
            "memory usage: 316.3 KB\n",
            "\n",
            "--- First 10 Rows with New Rolling Features ---\n",
            "      subject_id   stay_id           charttime  temperature  heartrate  \\\n",
            "328     10014354  30094124 2147-11-14 18:23:00         97.3       80.0   \n",
            "327     10014354  30094124 2147-11-14 22:08:00         98.5       82.0   \n",
            "1003    10010867  30115213 2147-12-30 08:40:00          NaN       83.0   \n",
            "1004    10010867  30115213 2147-12-30 08:48:00         97.2       89.0   \n",
            "948     10002930  30193781 2198-04-17 11:42:00         98.2       88.0   \n",
            "950     10002930  30193781 2198-04-17 15:09:00         97.8      105.0   \n",
            "947     10002930  30193781 2198-04-17 17:20:00         97.8      109.0   \n",
            "946     10002930  30193781 2198-04-17 18:24:00        101.0      120.0   \n",
            "949     10002930  30193781 2198-04-17 19:48:00        100.1      122.0   \n",
            "154     10005866  30225689 2149-09-20 05:50:00         97.6       72.0   \n",
            "\n",
            "      resprate  o2sat    sbp    dbp  pain  ...  sbp_min_60min  sbp_max_60min  \\\n",
            "328       18.0   99.0  138.0   78.0   4.0  ...          138.0          138.0   \n",
            "327       18.0  100.0  142.0   78.0   6.0  ...          142.0          142.0   \n",
            "1003      16.0  100.0  132.0   70.0   NaN  ...          132.0          132.0   \n",
            "1004      17.0  100.0  118.0   64.0   NaN  ...          118.0          132.0   \n",
            "948       16.0  100.0  150.0   98.0   6.0  ...          150.0          150.0   \n",
            "950       18.0   97.0  173.0   97.0   6.0  ...          173.0          173.0   \n",
            "947       18.0   96.0  163.0   97.0   6.0  ...          163.0          163.0   \n",
            "946       18.0   97.0  126.0  103.0   6.0  ...          126.0          126.0   \n",
            "949       18.0   98.0  131.0   80.0   0.0  ...          131.0          131.0   \n",
            "154       16.0  100.0  163.0   81.0  10.0  ...          163.0          163.0   \n",
            "\n",
            "      dbp_mean_60min  dbp_std_60min  dbp_min_60min  dbp_max_60min  \\\n",
            "328             78.0            NaN           78.0           78.0   \n",
            "327             78.0            NaN           78.0           78.0   \n",
            "1003            70.0            NaN           70.0           70.0   \n",
            "1004            67.0       4.242641           64.0           70.0   \n",
            "948             98.0            NaN           98.0           98.0   \n",
            "950             97.0            NaN           97.0           97.0   \n",
            "947             97.0            NaN           97.0           97.0   \n",
            "946            103.0            NaN          103.0          103.0   \n",
            "949             80.0            NaN           80.0           80.0   \n",
            "154             81.0            NaN           81.0           81.0   \n",
            "\n",
            "      pain_mean_60min  pain_std_60min  pain_min_60min  pain_max_60min  \n",
            "328               4.0             NaN             4.0             4.0  \n",
            "327               6.0             NaN             6.0             6.0  \n",
            "1003              NaN             NaN             NaN             NaN  \n",
            "1004              NaN             NaN             NaN             NaN  \n",
            "948               6.0             NaN             6.0             6.0  \n",
            "950               6.0             NaN             6.0             6.0  \n",
            "947               6.0             NaN             6.0             6.0  \n",
            "946               6.0             NaN             6.0             6.0  \n",
            "949               0.0             NaN             0.0             0.0  \n",
            "154              10.0             NaN            10.0            10.0  \n",
            "\n",
            "[10 rows x 38 columns]\n"
          ]
        }
      ]
    },
    {
      "cell_type": "markdown",
      "source": [
        "# Part 1: Identifying Alarm Events\n",
        "First, let's create a new column in our vitalsign_df that flags each row as an \"alarm\" or \"no alarm.\" We'll start with some standard clinical thresholds. For this example, we'll define an alarm as a moment when:\n",
        "\n",
        "Heart rate is dangerously high (> 140 bpm)\n",
        "\n",
        "Or, oxygen saturation is dangerously low (< 85%)\n"
      ],
      "metadata": {
        "id": "NiDgIlaoGMcF"
      }
    },
    {
      "cell_type": "code",
      "source": [
        "# --- Define Alarm Thresholds ---\n",
        "HIGH_HR_THRESHOLD = 140\n",
        "LOW_SPO2_THRESHOLD = 85\n",
        "\n",
        "# --- Create the 'alarm_flag' column ---\n",
        "# The flag is 1 if an alarm condition is met, otherwise it's 0.\n",
        "vitalsign_df['alarm_flag'] = np.where(\n",
        "    (vitalsign_df['heartrate'] > HIGH_HR_THRESHOLD) |\n",
        "    (vitalsign_df['o2sat'] < LOW_SPO2_THRESHOLD),\n",
        "    1,\n",
        "    0\n",
        ")\n",
        "\n",
        "# --- Show the results ---\n",
        "# Let's see how many alarm events we've identified.\n",
        "alarm_count = vitalsign_df['alarm_flag'].sum()\n",
        "print(f\"Based on our thresholds, we have identified {alarm_count} time points as potential alarm events.\")\n",
        "\n",
        "# Display the rows where an alarm was flagged\n",
        "print(\"\\nHere are some examples of rows flagged as an alarm:\")\n",
        "print(vitalsign_df[vitalsign_df['alarm_flag'] == 1].head())"
      ],
      "metadata": {
        "colab": {
          "base_uri": "https://localhost:8080/"
        },
        "id": "C7oFRMt1GPNC",
        "outputId": "ea05b346-8836-4ab2-a60b-2fdc4e97ae26"
      },
      "execution_count": 34,
      "outputs": [
        {
          "output_type": "stream",
          "name": "stdout",
          "text": [
            "Based on our thresholds, we have identified 8 time points as potential alarm events.\n",
            "\n",
            "Here are some examples of rows flagged as an alarm:\n",
            "     subject_id   stay_id           charttime  temperature  heartrate  \\\n",
            "827    10038999  30272878 2131-05-22 20:51:00          NaN      141.0   \n",
            "8      10026255  34236274 2201-07-07 13:52:00         98.1      150.0   \n",
            "6      10026255  34236274 2201-07-07 16:14:00         99.0      142.0   \n",
            "786    10023117  35716124 2175-07-06 15:15:00         96.8      106.0   \n",
            "794    10023117  35716124 2175-07-06 15:30:00         96.8      106.0   \n",
            "\n",
            "     resprate  o2sat    sbp    dbp  pain  alarm_flag  \n",
            "827      13.0  100.0  159.0   96.0   NaN           1  \n",
            "8        18.0   93.0  133.0  101.0   8.0           1  \n",
            "6        26.0   92.0  132.0   88.0   7.0           1  \n",
            "786      18.0   10.0   86.0   52.0   0.0           1  \n",
            "794      18.0   10.0   83.0   52.0   0.0           1  \n"
          ]
        }
      ]
    },
    {
      "cell_type": "markdown",
      "source": [
        "## The Challenge and a New Method\n",
        "The challenge is that without the inputevents.csv and procedureevents.csv files, we can't label an alarm as \"True\" just because a nurse intervened. We proceed with the unsupervised anomaly detection method what is this"
      ],
      "metadata": {
        "id": "j7lyMd3tLogZ"
      }
    },
    {
      "cell_type": "code",
      "source": [
        "from sklearn.ensemble import IsolationForest\n",
        "from sklearn.preprocessing import StandardScaler\n",
        "\n",
        "# This assumes 'vitalsign_df_with_features' is your DataFrame from the previous step.\n",
        "# For this example, let's create a placeholder if you don't have it loaded.\n",
        "# vitalsign_df_with_features = pd.read_csv('your_features_file.csv') # In a real scenario\n",
        "\n",
        "# --- 1. Select the Features for the Model ---\n",
        "# We'll use the raw vitals and all the rolling features we created.\n",
        "features = [\n",
        "    'temperature', 'heartrate', 'resprate', 'o2sat', 'sbp', 'dbp', 'pain',\n",
        "    'temperature_mean_60min', 'temperature_std_60min', 'temperature_min_60min', 'temperature_max_60min',\n",
        "    'heartrate_mean_60min', 'heartrate_std_60min', 'heartrate_min_60min', 'heartrate_max_60min',\n",
        "    'resprate_mean_60min', 'resprate_std_60min', 'resprate_min_60min', 'resprate_max_60min',\n",
        "    'o2sat_mean_60min', 'o2sat_std_60min', 'o2sat_min_60min', 'o2sat_max_60min',\n",
        "    'sbp_mean_60min', 'sbp_std_60min', 'sbp_min_60min', 'sbp_max_60min',\n",
        "    'dbp_mean_60min', 'dbp_std_60min', 'dbp_min_60min', 'dbp_max_60min',\n",
        "    'pain_mean_60min', 'pain_std_60min', 'pain_min_60min', 'pain_max_60min'\n",
        "]\n",
        "\n",
        "# Create a new DataFrame with only the features we need\n",
        "model_df = vitalsign_df_with_features[features].copy()\n",
        "\n",
        "\n",
        "# --- 2. Handle Missing Values ---\n",
        "# The rolling features will have NaN at the start of each patient's stay.\n",
        "# The model can't handle missing values, so we'll drop these rows for now.\n",
        "model_df.dropna(inplace=True)\n",
        "\n",
        "\n",
        "# --- 3. Scale the Data ---\n",
        "# Anomaly detection works best when all features are on a similar scale.\n",
        "scaler = StandardScaler()\n",
        "scaled_features = scaler.fit_transform(model_df)\n",
        "\n",
        "\n",
        "# --- 4. Train the Isolation Forest Model ---\n",
        "# 'contamination' is an estimate of the proportion of outliers in the data.\n",
        "# We can start with a small number like 0.05 (5%).\n",
        "iso_forest = IsolationForest(contamination=0.05, random_state=42)\n",
        "iso_forest.fit(scaled_features)\n",
        "\n",
        "\n",
        "# --- 5. Get Anomaly Scores ---\n",
        "# The decision_function gives scores where lower is more anomalous.\n",
        "# We'll invert the scores so that a higher number means a higher anomaly score.\n",
        "anomaly_scores = -1 * iso_forest.decision_function(scaled_features)\n",
        "\n",
        "\n",
        "# --- 6. Add Scores Back to the DataFrame ---\n",
        "# First, get the original index from the cleaned model_df\n",
        "original_indices = model_df.index\n",
        "\n",
        "# Add the scores to your main DataFrame\n",
        "vitalsign_df_with_features['anomaly_score'] = np.nan # Create column with NaNs\n",
        "vitalsign_df_with_features.loc[original_indices, 'anomaly_score'] = anomaly_scores\n",
        "\n",
        "\n",
        "# --- 7. Show the Results ---\n",
        "print(\"--- DataFrame with Anomaly Scores ---\")\n",
        "print(vitalsign_df_with_features[['stay_id', 'charttime', 'heartrate', 'o2sat', 'anomaly_score']].head(10))\n",
        "\n",
        "print(\"\\n--- Top 10 Most Anomalous Events ---\")\n",
        "# Let's look at the rows with the highest anomaly scores\n",
        "print(vitalsign_df_with_features.sort_values(by='anomaly_score', ascending=False).head(10))"
      ],
      "metadata": {
        "colab": {
          "base_uri": "https://localhost:8080/"
        },
        "id": "BvWhCs3TLnlX",
        "outputId": "0e4f664d-fa63-4adf-8711-ecbe00373db8"
      },
      "execution_count": 35,
      "outputs": [
        {
          "output_type": "stream",
          "name": "stdout",
          "text": [
            "--- DataFrame with Anomaly Scores ---\n",
            "       stay_id           charttime  heartrate  o2sat  anomaly_score\n",
            "328   30094124 2147-11-14 18:23:00       80.0   99.0            NaN\n",
            "327   30094124 2147-11-14 22:08:00       82.0  100.0            NaN\n",
            "1003  30115213 2147-12-30 08:40:00       83.0  100.0            NaN\n",
            "1004  30115213 2147-12-30 08:48:00       89.0  100.0            NaN\n",
            "948   30193781 2198-04-17 11:42:00       88.0  100.0            NaN\n",
            "950   30193781 2198-04-17 15:09:00      105.0   97.0            NaN\n",
            "947   30193781 2198-04-17 17:20:00      109.0   96.0            NaN\n",
            "946   30193781 2198-04-17 18:24:00      120.0   97.0            NaN\n",
            "949   30193781 2198-04-17 19:48:00      122.0   98.0            NaN\n",
            "154   30225689 2149-09-20 05:50:00       72.0  100.0            NaN\n",
            "\n",
            "--- Top 10 Most Anomalous Events ---\n",
            "      subject_id   stay_id           charttime  temperature  heartrate  \\\n",
            "962     10002930  31579293 2196-04-14 11:12:00         36.1       78.0   \n",
            "462     10039708  30915333 2140-01-23 16:38:00         35.1       73.0   \n",
            "468     10039708  30915333 2140-01-23 17:02:00         35.5       66.0   \n",
            "467     10039708  30915333 2140-01-23 15:43:00         34.2       82.0   \n",
            "464     10039708  30915333 2140-01-23 15:53:00         34.3       76.0   \n",
            "6       10026255  34236274 2201-07-07 16:14:00         99.0      142.0   \n",
            "1025    10002428  32007337 2156-04-12 15:25:00        101.0      133.0   \n",
            "885     10009049  31628990 2174-05-26 06:46:00        102.4      105.0   \n",
            "127     10020187  35766268 2169-08-31 21:11:00         98.4       95.0   \n",
            "790     10023117  35716124 2175-07-06 16:15:00         96.8      106.0   \n",
            "\n",
            "      resprate  o2sat    sbp   dbp  pain  ...  sbp_max_60min  dbp_mean_60min  \\\n",
            "962       16.0  100.0  119.0  72.0  10.0  ...          119.0       86.000000   \n",
            "462       16.0   98.0   80.0  49.0   6.0  ...           80.0       48.666667   \n",
            "468       20.0  100.0   83.0  60.0   5.0  ...           83.0       54.500000   \n",
            "467       24.0  100.0   72.0  45.0   5.0  ...           74.0       44.250000   \n",
            "464       16.0  100.0   73.0  52.0   7.0  ...           74.0       45.800000   \n",
            "6         26.0   92.0  132.0  88.0   7.0  ...          139.0       86.500000   \n",
            "1025      30.0   92.0  126.0  61.0   0.0  ...          126.0       53.000000   \n",
            "885       30.0   95.0  123.0  67.0   0.0  ...          124.0       66.000000   \n",
            "127       18.0   97.0  181.0  97.0   0.0  ...          190.0      107.000000   \n",
            "790       18.0  100.0   89.0  52.0   0.0  ...           89.0       51.750000   \n",
            "\n",
            "      dbp_std_60min  dbp_min_60min  dbp_max_60min  pain_mean_60min  \\\n",
            "962       19.798990           72.0          100.0             10.0   \n",
            "462        3.511885           45.0           52.0              6.0   \n",
            "468        7.778175           49.0           60.0              5.5   \n",
            "467        2.872281           40.0           46.0              5.0   \n",
            "464        4.266146           40.0           52.0              5.4   \n",
            "6          2.121320           85.0           88.0              7.0   \n",
            "1025      11.313708           45.0           61.0              0.0   \n",
            "885        1.414214           65.0           67.0              0.0   \n",
            "127       14.142136           97.0          117.0              0.0   \n",
            "790        1.258306           50.0           53.0              0.0   \n",
            "\n",
            "      pain_std_60min  pain_min_60min  pain_max_60min  anomaly_score  \n",
            "962         0.000000            10.0            10.0       0.078927  \n",
            "462         1.000000             5.0             7.0       0.059824  \n",
            "468         0.707107             5.0             6.0       0.058144  \n",
            "467         0.000000             5.0             5.0       0.047917  \n",
            "464         0.894427             5.0             7.0       0.044285  \n",
            "6           0.000000             7.0             7.0       0.038724  \n",
            "1025        0.000000             0.0             0.0       0.013005  \n",
            "885         0.000000             0.0             0.0       0.010923  \n",
            "127         0.000000             0.0             0.0       0.004831  \n",
            "790         0.000000             0.0             0.0       0.002965  \n",
            "\n",
            "[10 rows x 39 columns]\n"
          ]
        }
      ]
    },
    {
      "cell_type": "markdown",
      "source": [
        "## Visualizing Anomalies for a Single Patient\n",
        "The code below will automatically find the patient (stay_id) who had the single most anomalous event and create a plot for them."
      ],
      "metadata": {
        "id": "-iKcwQoQNf7i"
      }
    },
    {
      "cell_type": "code",
      "source": [
        "import matplotlib.pyplot as plt\n",
        "\n",
        "# This assumes 'vitalsign_df_with_features' is your DataFrame with the anomaly scores.\n",
        "\n",
        "# --- 1. Find the Most Anomalous Patient Stay ---\n",
        "# Find the index of the row with the highest anomaly score\n",
        "most_anomalous_index = vitalsign_df_with_features['anomaly_score'].idxmax()\n",
        "# Get the stay_id for that row\n",
        "stay_id_to_plot = vitalsign_df_with_features.loc[most_anomalous_index, 'stay_id']\n",
        "\n",
        "print(f\"Plotting results for stay_id: {stay_id_to_plot}, which had the highest anomaly score.\")\n",
        "\n",
        "# --- 2. Isolate the Data for that Patient ---\n",
        "patient_df = vitalsign_df_with_features[vitalsign_df_with_features['stay_id'] == stay_id_to_plot].copy()\n",
        "\n",
        "# --- 3. Create the Plot ---\n",
        "fig, (ax1, ax2, ax3) = plt.subplots(3, 1, figsize=(15, 10), sharex=True)\n",
        "fig.suptitle(f'Vital Signs and Anomaly Scores for stay_id: {stay_id_to_plot}', fontsize=16)\n",
        "\n",
        "# Plot Heart Rate\n",
        "ax1.plot(patient_df['charttime'], patient_df['heartrate'], label='Heart Rate', color='red')\n",
        "ax1.axhline(y=140, color='r', linestyle='--', label='High HR Threshold (140)')\n",
        "ax1.set_ylabel('Heart Rate (bpm)')\n",
        "ax1.legend()\n",
        "ax1.grid(True)\n",
        "\n",
        "# Plot Oxygen Saturation\n",
        "ax2.plot(patient_df['charttime'], patient_df['o2sat'], label='SpO2', color='blue')\n",
        "ax2.axhline(y=85, color='b', linestyle='--', label='Low SpO2 Threshold (85)')\n",
        "ax2.set_ylabel('SpO2 (%)')\n",
        "ax2.legend()\n",
        "ax2.grid(True)\n",
        "\n",
        "# Plot Anomaly Score\n",
        "ax3.plot(patient_df['charttime'], patient_df['anomaly_score'], label='Anomaly Score', color='green', marker='o', linestyle='--')\n",
        "ax3.set_ylabel('Anomaly Score')\n",
        "ax3.set_xlabel('Time')\n",
        "ax3.legend()\n",
        "ax3.grid(True)\n",
        "\n",
        "# Improve formatting\n",
        "plt.xticks(rotation=45)\n",
        "plt.tight_layout(rect=[0, 0, 1, 0.96]) # Adjust layout to make room for the suptitle\n",
        "plt.show()"
      ],
      "metadata": {
        "colab": {
          "base_uri": "https://localhost:8080/",
          "height": 950
        },
        "id": "vsjgFG8_NIew",
        "outputId": "008074f6-a1dd-4c2c-f8cb-9f96315755e1"
      },
      "execution_count": 36,
      "outputs": [
        {
          "output_type": "stream",
          "name": "stdout",
          "text": [
            "Plotting results for stay_id: 31579293, which had the highest anomaly score.\n"
          ]
        },
        {
          "output_type": "display_data",
          "data": {
            "text/plain": [
              "<Figure size 1500x1000 with 3 Axes>"
            ],
            "image/png": "[encoded data removed]"
          },
          "metadata": {}
        }
      ]
    },
    {
      "cell_type": "code",
      "source": [],
      "metadata": {
        "id": "Vz5S2-7VN4Cd"
      },
      "execution_count": 36,
      "outputs": []
    }
  ]
}